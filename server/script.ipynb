{
 "cells": [
  {
   "cell_type": "code",
   "execution_count": 1,
   "metadata": {},
   "outputs": [],
   "source": [
    "import pandas as pd"
   ]
  },
  {
   "cell_type": "code",
   "execution_count": 14,
   "metadata": {},
   "outputs": [
    {
     "data": {
      "text/html": [
       "<div>\n",
       "<style scoped>\n",
       "    .dataframe tbody tr th:only-of-type {\n",
       "        vertical-align: middle;\n",
       "    }\n",
       "\n",
       "    .dataframe tbody tr th {\n",
       "        vertical-align: top;\n",
       "    }\n",
       "\n",
       "    .dataframe thead th {\n",
       "        text-align: right;\n",
       "    }\n",
       "</style>\n",
       "<table border=\"1\" class=\"dataframe\">\n",
       "  <thead>\n",
       "    <tr style=\"text-align: right;\">\n",
       "      <th></th>\n",
       "      <th>Unnamed: 0.1</th>\n",
       "      <th>Unnamed: 0</th>\n",
       "      <th>timestamp</th>\n",
       "      <th>facility_name</th>\n",
       "      <th>country</th>\n",
       "      <th>province</th>\n",
       "      <th>district</th>\n",
       "      <th>sector</th>\n",
       "      <th>cell</th>\n",
       "      <th>fullname</th>\n",
       "      <th>stock_item_code</th>\n",
       "      <th>status</th>\n",
       "      <th>quantity</th>\n",
       "    </tr>\n",
       "  </thead>\n",
       "  <tbody>\n",
       "    <tr>\n",
       "      <th>0</th>\n",
       "      <td>0</td>\n",
       "      <td>0</td>\n",
       "      <td>2024-04-01</td>\n",
       "      <td>Kiyovu_Nyarugenge (Biryogo)</td>\n",
       "      <td>Rwanda</td>\n",
       "      <td>kigali</td>\n",
       "      <td>nyarugenge</td>\n",
       "      <td>nyarugenge</td>\n",
       "      <td>kiyovu</td>\n",
       "      <td>Mediatrice_Murorunkwere</td>\n",
       "      <td>RapidDiagnosticTest</td>\n",
       "      <td>Dispensed</td>\n",
       "      <td>2</td>\n",
       "    </tr>\n",
       "    <tr>\n",
       "      <th>1</th>\n",
       "      <td>1</td>\n",
       "      <td>1</td>\n",
       "      <td>2024-04-01</td>\n",
       "      <td>Sha_Nduba (Nduba)</td>\n",
       "      <td>Rwanda</td>\n",
       "      <td>kigali</td>\n",
       "      <td>gasabo</td>\n",
       "      <td>nduba</td>\n",
       "      <td>sha</td>\n",
       "      <td>Jean_Paul_Murenzi</td>\n",
       "      <td>Arthemether_20mg_Lumefantrine_120mg_Tab_6x4</td>\n",
       "      <td>Dispensed</td>\n",
       "      <td>5</td>\n",
       "    </tr>\n",
       "    <tr>\n",
       "      <th>2</th>\n",
       "      <td>2</td>\n",
       "      <td>2</td>\n",
       "      <td>2024-04-01</td>\n",
       "      <td>Berwa_Kibenga_Ndera</td>\n",
       "      <td>Rwanda</td>\n",
       "      <td>kigali</td>\n",
       "      <td>gasabo</td>\n",
       "      <td>ndera</td>\n",
       "      <td>kibenga</td>\n",
       "      <td>Asiza_Mukandayisenga</td>\n",
       "      <td>RapidDiagnosticTest</td>\n",
       "      <td>Dispensed</td>\n",
       "      <td>5</td>\n",
       "    </tr>\n",
       "    <tr>\n",
       "      <th>3</th>\n",
       "      <td>3</td>\n",
       "      <td>3</td>\n",
       "      <td>2024-04-02</td>\n",
       "      <td>Sakirwa_Gasharu_Kicukiro</td>\n",
       "      <td>Rwanda</td>\n",
       "      <td>kigali</td>\n",
       "      <td>kicukiro</td>\n",
       "      <td>kicukiro</td>\n",
       "      <td>gasharu</td>\n",
       "      <td>Mustafa_Kagabo</td>\n",
       "      <td>RapidDiagnosticTest</td>\n",
       "      <td>Approved</td>\n",
       "      <td>4</td>\n",
       "    </tr>\n",
       "    <tr>\n",
       "      <th>4</th>\n",
       "      <td>4</td>\n",
       "      <td>4</td>\n",
       "      <td>2024-04-02</td>\n",
       "      <td>Sakirwa_Gasharu_Kicukiro</td>\n",
       "      <td>Rwanda</td>\n",
       "      <td>kigali</td>\n",
       "      <td>kicukiro</td>\n",
       "      <td>kicukiro</td>\n",
       "      <td>gasharu</td>\n",
       "      <td>Mustafa_Kagabo</td>\n",
       "      <td>Arthemether_20mg_Lumefantrine_120mg_Tab_6x2</td>\n",
       "      <td>Approved</td>\n",
       "      <td>3</td>\n",
       "    </tr>\n",
       "  </tbody>\n",
       "</table>\n",
       "</div>"
      ],
      "text/plain": [
       "   Unnamed: 0.1  Unnamed: 0  timestamp                facility_name country  \\\n",
       "0             0           0 2024-04-01  Kiyovu_Nyarugenge (Biryogo)  Rwanda   \n",
       "1             1           1 2024-04-01            Sha_Nduba (Nduba)  Rwanda   \n",
       "2             2           2 2024-04-01          Berwa_Kibenga_Ndera  Rwanda   \n",
       "3             3           3 2024-04-02     Sakirwa_Gasharu_Kicukiro  Rwanda   \n",
       "4             4           4 2024-04-02     Sakirwa_Gasharu_Kicukiro  Rwanda   \n",
       "\n",
       "  province    district      sector     cell                 fullname  \\\n",
       "0   kigali  nyarugenge  nyarugenge   kiyovu  Mediatrice_Murorunkwere   \n",
       "1   kigali      gasabo       nduba      sha        Jean_Paul_Murenzi   \n",
       "2   kigali      gasabo       ndera  kibenga     Asiza_Mukandayisenga   \n",
       "3   kigali    kicukiro    kicukiro  gasharu           Mustafa_Kagabo   \n",
       "4   kigali    kicukiro    kicukiro  gasharu           Mustafa_Kagabo   \n",
       "\n",
       "                               stock_item_code     status  quantity  \n",
       "0                          RapidDiagnosticTest  Dispensed         2  \n",
       "1  Arthemether_20mg_Lumefantrine_120mg_Tab_6x4  Dispensed         5  \n",
       "2                          RapidDiagnosticTest  Dispensed         5  \n",
       "3                          RapidDiagnosticTest   Approved         4  \n",
       "4  Arthemether_20mg_Lumefantrine_120mg_Tab_6x2   Approved         3  "
      ]
     },
     "execution_count": 14,
     "metadata": {},
     "output_type": "execute_result"
    }
   ],
   "source": [
    "df = pd.read_excel(\"../data/clean_data.xlsx\")\n",
    "df.head()"
   ]
  },
  {
   "cell_type": "code",
   "execution_count": 3,
   "metadata": {},
   "outputs": [],
   "source": [
    "df['fullname'] = df['fullname'].str.replace(' ', '_')"
   ]
  },
  {
   "cell_type": "code",
   "execution_count": 8,
   "metadata": {},
   "outputs": [],
   "source": [
    "df['timestamp'] = pd.to_datetime(df['timestamp'])"
   ]
  },
  {
   "cell_type": "code",
   "execution_count": 10,
   "metadata": {},
   "outputs": [
    {
     "data": {
      "text/plain": [
       "Index(['Unnamed: 0', 'timestamp', 'facility_name', 'country', 'province',\n",
       "       'district', 'sector', 'cell', 'fullname', 'stock_item_code', 'status',\n",
       "       'quantity'],\n",
       "      dtype='object')"
      ]
     },
     "execution_count": 10,
     "metadata": {},
     "output_type": "execute_result"
    }
   ],
   "source": [
    "df.columns"
   ]
  },
  {
   "cell_type": "code",
   "execution_count": 12,
   "metadata": {},
   "outputs": [],
   "source": [
    "# categorical columns\n",
    "cat_cols = ['province', 'district', 'sector', 'cell']\n",
    "for col in cat_cols:\n",
    "    df[col] = df[col].str.lower()"
   ]
  },
  {
   "cell_type": "code",
   "execution_count": 13,
   "metadata": {},
   "outputs": [],
   "source": [
    "df.to_excel(\"../data/clean_data.xlsx\")"
   ]
  }
 ],
 "metadata": {
  "kernelspec": {
   "display_name": "robert",
   "language": "python",
   "name": "python3"
  },
  "language_info": {
   "codemirror_mode": {
    "name": "ipython",
    "version": 3
   },
   "file_extension": ".py",
   "mimetype": "text/x-python",
   "name": "python",
   "nbconvert_exporter": "python",
   "pygments_lexer": "ipython3",
   "version": "3.9.16"
  }
 },
 "nbformat": 4,
 "nbformat_minor": 2
}
