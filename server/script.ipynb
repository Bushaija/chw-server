{
 "cells": [
  {
   "cell_type": "code",
   "execution_count": 2,
   "metadata": {},
   "outputs": [],
   "source": [
    "import pandas as pd"
   ]
  },
  {
   "cell_type": "code",
   "execution_count": 3,
   "metadata": {},
   "outputs": [
    {
     "data": {
      "text/html": [
       "<div>\n",
       "<style scoped>\n",
       "    .dataframe tbody tr th:only-of-type {\n",
       "        vertical-align: middle;\n",
       "    }\n",
       "\n",
       "    .dataframe tbody tr th {\n",
       "        vertical-align: top;\n",
       "    }\n",
       "\n",
       "    .dataframe thead th {\n",
       "        text-align: right;\n",
       "    }\n",
       "</style>\n",
       "<table border=\"1\" class=\"dataframe\">\n",
       "  <thead>\n",
       "    <tr style=\"text-align: right;\">\n",
       "      <th></th>\n",
       "      <th>Unnamed: 0.2</th>\n",
       "      <th>Unnamed: 0.1</th>\n",
       "      <th>Unnamed: 0</th>\n",
       "      <th>timestamp</th>\n",
       "      <th>facility_name</th>\n",
       "      <th>country</th>\n",
       "      <th>province</th>\n",
       "      <th>district</th>\n",
       "      <th>sector</th>\n",
       "      <th>cell</th>\n",
       "      <th>fullname</th>\n",
       "      <th>stock_item_code</th>\n",
       "      <th>medical_items</th>\n",
       "      <th>status</th>\n",
       "      <th>quantity</th>\n",
       "    </tr>\n",
       "  </thead>\n",
       "  <tbody>\n",
       "    <tr>\n",
       "      <th>0</th>\n",
       "      <td>0</td>\n",
       "      <td>0</td>\n",
       "      <td>0</td>\n",
       "      <td>2024-04-01</td>\n",
       "      <td>Kiyovu_Nyarugenge (Biryogo)</td>\n",
       "      <td>Rwanda</td>\n",
       "      <td>kigali</td>\n",
       "      <td>nyarugenge</td>\n",
       "      <td>nyarugenge</td>\n",
       "      <td>kiyovu</td>\n",
       "      <td>Mediatrice_Murorunkwere</td>\n",
       "      <td>RapidDiagnosticTest</td>\n",
       "      <td>malaria</td>\n",
       "      <td>Dispensed</td>\n",
       "      <td>2</td>\n",
       "    </tr>\n",
       "    <tr>\n",
       "      <th>1</th>\n",
       "      <td>1</td>\n",
       "      <td>1</td>\n",
       "      <td>1</td>\n",
       "      <td>2024-04-01</td>\n",
       "      <td>Sha_Nduba (Nduba)</td>\n",
       "      <td>Rwanda</td>\n",
       "      <td>kigali</td>\n",
       "      <td>gasabo</td>\n",
       "      <td>nduba</td>\n",
       "      <td>sha</td>\n",
       "      <td>Jean_Paul_Murenzi</td>\n",
       "      <td>Arthemether_20mg_Lumefantrine_120mg_Tab_6x4</td>\n",
       "      <td>malaria</td>\n",
       "      <td>Dispensed</td>\n",
       "      <td>5</td>\n",
       "    </tr>\n",
       "    <tr>\n",
       "      <th>2</th>\n",
       "      <td>2</td>\n",
       "      <td>2</td>\n",
       "      <td>2</td>\n",
       "      <td>2024-04-01</td>\n",
       "      <td>Berwa_Kibenga_Ndera</td>\n",
       "      <td>Rwanda</td>\n",
       "      <td>kigali</td>\n",
       "      <td>gasabo</td>\n",
       "      <td>ndera</td>\n",
       "      <td>kibenga</td>\n",
       "      <td>Asiza_Mukandayisenga</td>\n",
       "      <td>RapidDiagnosticTest</td>\n",
       "      <td>malaria</td>\n",
       "      <td>Dispensed</td>\n",
       "      <td>5</td>\n",
       "    </tr>\n",
       "    <tr>\n",
       "      <th>3</th>\n",
       "      <td>3</td>\n",
       "      <td>3</td>\n",
       "      <td>3</td>\n",
       "      <td>2024-04-02</td>\n",
       "      <td>Sakirwa_Gasharu_Kicukiro</td>\n",
       "      <td>Rwanda</td>\n",
       "      <td>kigali</td>\n",
       "      <td>kicukiro</td>\n",
       "      <td>kicukiro</td>\n",
       "      <td>gasharu</td>\n",
       "      <td>Mustafa_Kagabo</td>\n",
       "      <td>RapidDiagnosticTest</td>\n",
       "      <td>malaria</td>\n",
       "      <td>Approved</td>\n",
       "      <td>4</td>\n",
       "    </tr>\n",
       "    <tr>\n",
       "      <th>4</th>\n",
       "      <td>4</td>\n",
       "      <td>4</td>\n",
       "      <td>4</td>\n",
       "      <td>2024-04-02</td>\n",
       "      <td>Sakirwa_Gasharu_Kicukiro</td>\n",
       "      <td>Rwanda</td>\n",
       "      <td>kigali</td>\n",
       "      <td>kicukiro</td>\n",
       "      <td>kicukiro</td>\n",
       "      <td>gasharu</td>\n",
       "      <td>Mustafa_Kagabo</td>\n",
       "      <td>Arthemether_20mg_Lumefantrine_120mg_Tab_6x2</td>\n",
       "      <td>malaria</td>\n",
       "      <td>Approved</td>\n",
       "      <td>3</td>\n",
       "    </tr>\n",
       "  </tbody>\n",
       "</table>\n",
       "</div>"
      ],
      "text/plain": [
       "   Unnamed: 0.2  Unnamed: 0.1  Unnamed: 0  timestamp  \\\n",
       "0             0             0           0 2024-04-01   \n",
       "1             1             1           1 2024-04-01   \n",
       "2             2             2           2 2024-04-01   \n",
       "3             3             3           3 2024-04-02   \n",
       "4             4             4           4 2024-04-02   \n",
       "\n",
       "                 facility_name country province    district      sector  \\\n",
       "0  Kiyovu_Nyarugenge (Biryogo)  Rwanda   kigali  nyarugenge  nyarugenge   \n",
       "1            Sha_Nduba (Nduba)  Rwanda   kigali      gasabo       nduba   \n",
       "2          Berwa_Kibenga_Ndera  Rwanda   kigali      gasabo       ndera   \n",
       "3     Sakirwa_Gasharu_Kicukiro  Rwanda   kigali    kicukiro    kicukiro   \n",
       "4     Sakirwa_Gasharu_Kicukiro  Rwanda   kigali    kicukiro    kicukiro   \n",
       "\n",
       "      cell                 fullname  \\\n",
       "0   kiyovu  Mediatrice_Murorunkwere   \n",
       "1      sha        Jean_Paul_Murenzi   \n",
       "2  kibenga     Asiza_Mukandayisenga   \n",
       "3  gasharu           Mustafa_Kagabo   \n",
       "4  gasharu           Mustafa_Kagabo   \n",
       "\n",
       "                               stock_item_code medical_items     status  \\\n",
       "0                          RapidDiagnosticTest       malaria  Dispensed   \n",
       "1  Arthemether_20mg_Lumefantrine_120mg_Tab_6x4       malaria  Dispensed   \n",
       "2                          RapidDiagnosticTest       malaria  Dispensed   \n",
       "3                          RapidDiagnosticTest       malaria   Approved   \n",
       "4  Arthemether_20mg_Lumefantrine_120mg_Tab_6x2       malaria   Approved   \n",
       "\n",
       "   quantity  \n",
       "0         2  \n",
       "1         5  \n",
       "2         5  \n",
       "3         4  \n",
       "4         3  "
      ]
     },
     "execution_count": 3,
     "metadata": {},
     "output_type": "execute_result"
    }
   ],
   "source": [
    "df = pd.read_excel(\"../data/data_clean.xlsx\")\n",
    "df.head()"
   ]
  },
  {
   "cell_type": "code",
   "execution_count": 9,
   "metadata": {},
   "outputs": [
    {
     "data": {
      "text/plain": [
       "array(['malaria', 'equipments', 'pneumonia_bacterial_infections',\n",
       "       'diarrhea', 'family_planning', 'nutrition_supplements',\n",
       "       'parasitic_infections', 'tuberculosis'], dtype=object)"
      ]
     },
     "execution_count": 9,
     "metadata": {},
     "output_type": "execute_result"
    }
   ],
   "source": [
    "df['medical_items'].unique()"
   ]
  },
  {
   "cell_type": "code",
   "execution_count": 8,
   "metadata": {},
   "outputs": [],
   "source": [
    "# df['medical_items'] = df['medical_items'].replace({'pneumonia_bacterical_infections': 'pneumonia_bacterial_infections'})"
   ]
  },
  {
   "cell_type": "markdown",
   "metadata": {},
   "source": [
    "#### Splitting timestamp col into month and year cols"
   ]
  },
  {
   "cell_type": "code",
   "execution_count": 7,
   "metadata": {},
   "outputs": [
    {
     "data": {
      "text/plain": [
       "0    2024\n",
       "1    2024\n",
       "2    2024\n",
       "3    2024\n",
       "4    2024\n",
       "Name: year, dtype: int32"
      ]
     },
     "execution_count": 7,
     "metadata": {},
     "output_type": "execute_result"
    }
   ],
   "source": [
    "df['timestamp'] = pd.to_datetime(df['timestamp'])\n",
    "df['year'] = df['timestamp'].dt.year \n",
    "df['year'].head()"
   ]
  },
  {
   "cell_type": "code",
   "execution_count": 8,
   "metadata": {},
   "outputs": [],
   "source": [
    "df['month'] = df['timestamp'].dt.month"
   ]
  },
  {
   "cell_type": "markdown",
   "metadata": {},
   "source": [
    "### Renaming medical items value"
   ]
  },
  {
   "cell_type": "code",
   "execution_count": 4,
   "metadata": {},
   "outputs": [
    {
     "data": {
      "text/html": [
       "<div>\n",
       "<style scoped>\n",
       "    .dataframe tbody tr th:only-of-type {\n",
       "        vertical-align: middle;\n",
       "    }\n",
       "\n",
       "    .dataframe tbody tr th {\n",
       "        vertical-align: top;\n",
       "    }\n",
       "\n",
       "    .dataframe thead th {\n",
       "        text-align: right;\n",
       "    }\n",
       "</style>\n",
       "<table border=\"1\" class=\"dataframe\">\n",
       "  <thead>\n",
       "    <tr style=\"text-align: right;\">\n",
       "      <th></th>\n",
       "      <th>Unnamed: 0.1</th>\n",
       "      <th>Unnamed: 0</th>\n",
       "      <th>timestamp</th>\n",
       "      <th>facility_name</th>\n",
       "      <th>country</th>\n",
       "      <th>province</th>\n",
       "      <th>district</th>\n",
       "      <th>sector</th>\n",
       "      <th>cell</th>\n",
       "      <th>fullname</th>\n",
       "      <th>stock_item_code</th>\n",
       "      <th>medical_items</th>\n",
       "      <th>status</th>\n",
       "      <th>quantity</th>\n",
       "    </tr>\n",
       "  </thead>\n",
       "  <tbody>\n",
       "    <tr>\n",
       "      <th>0</th>\n",
       "      <td>0</td>\n",
       "      <td>0</td>\n",
       "      <td>2024-04-01</td>\n",
       "      <td>Kiyovu_Nyarugenge (Biryogo)</td>\n",
       "      <td>Rwanda</td>\n",
       "      <td>kigali</td>\n",
       "      <td>nyarugenge</td>\n",
       "      <td>nyarugenge</td>\n",
       "      <td>kiyovu</td>\n",
       "      <td>Mediatrice_Murorunkwere</td>\n",
       "      <td>RapidDiagnosticTest</td>\n",
       "      <td>malaria</td>\n",
       "      <td>Dispensed</td>\n",
       "      <td>2</td>\n",
       "    </tr>\n",
       "    <tr>\n",
       "      <th>1</th>\n",
       "      <td>1</td>\n",
       "      <td>1</td>\n",
       "      <td>2024-04-01</td>\n",
       "      <td>Sha_Nduba (Nduba)</td>\n",
       "      <td>Rwanda</td>\n",
       "      <td>kigali</td>\n",
       "      <td>gasabo</td>\n",
       "      <td>nduba</td>\n",
       "      <td>sha</td>\n",
       "      <td>Jean_Paul_Murenzi</td>\n",
       "      <td>Arthemether_20mg_Lumefantrine_120mg_Tab_6x4</td>\n",
       "      <td>malaria</td>\n",
       "      <td>Dispensed</td>\n",
       "      <td>5</td>\n",
       "    </tr>\n",
       "    <tr>\n",
       "      <th>2</th>\n",
       "      <td>2</td>\n",
       "      <td>2</td>\n",
       "      <td>2024-04-01</td>\n",
       "      <td>Berwa_Kibenga_Ndera</td>\n",
       "      <td>Rwanda</td>\n",
       "      <td>kigali</td>\n",
       "      <td>gasabo</td>\n",
       "      <td>ndera</td>\n",
       "      <td>kibenga</td>\n",
       "      <td>Asiza_Mukandayisenga</td>\n",
       "      <td>RapidDiagnosticTest</td>\n",
       "      <td>malaria</td>\n",
       "      <td>Dispensed</td>\n",
       "      <td>5</td>\n",
       "    </tr>\n",
       "    <tr>\n",
       "      <th>3</th>\n",
       "      <td>3</td>\n",
       "      <td>3</td>\n",
       "      <td>2024-04-02</td>\n",
       "      <td>Sakirwa_Gasharu_Kicukiro</td>\n",
       "      <td>Rwanda</td>\n",
       "      <td>kigali</td>\n",
       "      <td>kicukiro</td>\n",
       "      <td>kicukiro</td>\n",
       "      <td>gasharu</td>\n",
       "      <td>Mustafa_Kagabo</td>\n",
       "      <td>RapidDiagnosticTest</td>\n",
       "      <td>malaria</td>\n",
       "      <td>Approved</td>\n",
       "      <td>4</td>\n",
       "    </tr>\n",
       "    <tr>\n",
       "      <th>4</th>\n",
       "      <td>4</td>\n",
       "      <td>4</td>\n",
       "      <td>2024-04-02</td>\n",
       "      <td>Sakirwa_Gasharu_Kicukiro</td>\n",
       "      <td>Rwanda</td>\n",
       "      <td>kigali</td>\n",
       "      <td>kicukiro</td>\n",
       "      <td>kicukiro</td>\n",
       "      <td>gasharu</td>\n",
       "      <td>Mustafa_Kagabo</td>\n",
       "      <td>Arthemether_20mg_Lumefantrine_120mg_Tab_6x2</td>\n",
       "      <td>malaria</td>\n",
       "      <td>Approved</td>\n",
       "      <td>3</td>\n",
       "    </tr>\n",
       "  </tbody>\n",
       "</table>\n",
       "</div>"
      ],
      "text/plain": [
       "   Unnamed: 0.1  Unnamed: 0  timestamp                facility_name country  \\\n",
       "0             0           0 2024-04-01  Kiyovu_Nyarugenge (Biryogo)  Rwanda   \n",
       "1             1           1 2024-04-01            Sha_Nduba (Nduba)  Rwanda   \n",
       "2             2           2 2024-04-01          Berwa_Kibenga_Ndera  Rwanda   \n",
       "3             3           3 2024-04-02     Sakirwa_Gasharu_Kicukiro  Rwanda   \n",
       "4             4           4 2024-04-02     Sakirwa_Gasharu_Kicukiro  Rwanda   \n",
       "\n",
       "  province    district      sector     cell                 fullname  \\\n",
       "0   kigali  nyarugenge  nyarugenge   kiyovu  Mediatrice_Murorunkwere   \n",
       "1   kigali      gasabo       nduba      sha        Jean_Paul_Murenzi   \n",
       "2   kigali      gasabo       ndera  kibenga     Asiza_Mukandayisenga   \n",
       "3   kigali    kicukiro    kicukiro  gasharu           Mustafa_Kagabo   \n",
       "4   kigali    kicukiro    kicukiro  gasharu           Mustafa_Kagabo   \n",
       "\n",
       "                               stock_item_code medical_items     status  \\\n",
       "0                          RapidDiagnosticTest       malaria  Dispensed   \n",
       "1  Arthemether_20mg_Lumefantrine_120mg_Tab_6x4       malaria  Dispensed   \n",
       "2                          RapidDiagnosticTest       malaria  Dispensed   \n",
       "3                          RapidDiagnosticTest       malaria   Approved   \n",
       "4  Arthemether_20mg_Lumefantrine_120mg_Tab_6x2       malaria   Approved   \n",
       "\n",
       "   quantity  \n",
       "0         2  \n",
       "1         5  \n",
       "2         5  \n",
       "3         4  \n",
       "4         3  "
      ]
     },
     "execution_count": 4,
     "metadata": {},
     "output_type": "execute_result"
    }
   ],
   "source": [
    "df['medical_items'] = df['medical_items'].replace({'Malaria testing and treatment': 'malaria'})\n",
    "df['medical_items'] = df['medical_items'].replace({'Medical Equipments': 'equipments'})\n",
    "df['medical_items'] = df['medical_items'].replace({'Simple pneumonia and other bacterial infections': 'pneumonia_bacterial_infections'})\n",
    "df['medical_items'] = df['medical_items'].replace({'Diarrhea Treatment': 'diarrhea'})\n",
    "df['medical_items'] = df['medical_items'].replace({'Family Planning and Reproductive health': 'family_planning'})\n",
    "df['medical_items'] = df['medical_items'].replace({'Nutritional Supplements': 'nutrition_supplements'})\n",
    "df['medical_items'] = df['medical_items'].replace({'Parasitic Infections': 'parasitic_infections'})\n",
    "df['medical_items'] = df['medical_items'].replace({'Tuberculosis Treatment': 'tuberculosis'})\n",
    "df.head()"
   ]
  },
  {
   "cell_type": "code",
   "execution_count": 3,
   "metadata": {},
   "outputs": [],
   "source": [
    "df['fullname'] = df['fullname'].str.replace(' ', '_')"
   ]
  },
  {
   "cell_type": "code",
   "execution_count": 8,
   "metadata": {},
   "outputs": [],
   "source": [
    "df['timestamp'] = pd.to_datetime(df['timestamp'])"
   ]
  },
  {
   "cell_type": "code",
   "execution_count": 10,
   "metadata": {},
   "outputs": [
    {
     "data": {
      "text/plain": [
       "Index(['Unnamed: 0', 'timestamp', 'facility_name', 'country', 'province',\n",
       "       'district', 'sector', 'cell', 'fullname', 'stock_item_code', 'status',\n",
       "       'quantity'],\n",
       "      dtype='object')"
      ]
     },
     "execution_count": 10,
     "metadata": {},
     "output_type": "execute_result"
    }
   ],
   "source": [
    "df.columns"
   ]
  },
  {
   "cell_type": "code",
   "execution_count": 12,
   "metadata": {},
   "outputs": [],
   "source": [
    "# categorical columns\n",
    "cat_cols = ['province', 'district', 'sector', 'cell']\n",
    "for col in cat_cols:\n",
    "    df[col] = df[col].str.lower()"
   ]
  },
  {
   "cell_type": "code",
   "execution_count": 9,
   "metadata": {},
   "outputs": [
    {
     "ename": "PermissionError",
     "evalue": "[Errno 13] Permission denied: '../data/clean_data.xlsx'",
     "output_type": "error",
     "traceback": [
      "\u001b[1;31m---------------------------------------------------------------------------\u001b[0m",
      "\u001b[1;31mPermissionError\u001b[0m                           Traceback (most recent call last)",
      "Cell \u001b[1;32mIn[9], line 1\u001b[0m\n\u001b[1;32m----> 1\u001b[0m \u001b[43mdf\u001b[49m\u001b[38;5;241;43m.\u001b[39;49m\u001b[43mto_excel\u001b[49m\u001b[43m(\u001b[49m\u001b[38;5;124;43m\"\u001b[39;49m\u001b[38;5;124;43m../data/clean_data.xlsx\u001b[39;49m\u001b[38;5;124;43m\"\u001b[39;49m\u001b[43m)\u001b[49m\n",
      "File \u001b[1;32m~\\AppData\\Roaming\\Python\\Python39\\site-packages\\pandas\\core\\generic.py:2252\u001b[0m, in \u001b[0;36mNDFrame.to_excel\u001b[1;34m(self, excel_writer, sheet_name, na_rep, float_format, columns, header, index, index_label, startrow, startcol, engine, merge_cells, inf_rep, freeze_panes, storage_options)\u001b[0m\n\u001b[0;32m   2239\u001b[0m \u001b[38;5;28;01mfrom\u001b[39;00m \u001b[38;5;21;01mpandas\u001b[39;00m\u001b[38;5;21;01m.\u001b[39;00m\u001b[38;5;21;01mio\u001b[39;00m\u001b[38;5;21;01m.\u001b[39;00m\u001b[38;5;21;01mformats\u001b[39;00m\u001b[38;5;21;01m.\u001b[39;00m\u001b[38;5;21;01mexcel\u001b[39;00m \u001b[38;5;28;01mimport\u001b[39;00m ExcelFormatter\n\u001b[0;32m   2241\u001b[0m formatter \u001b[38;5;241m=\u001b[39m ExcelFormatter(\n\u001b[0;32m   2242\u001b[0m     df,\n\u001b[0;32m   2243\u001b[0m     na_rep\u001b[38;5;241m=\u001b[39mna_rep,\n\u001b[1;32m   (...)\u001b[0m\n\u001b[0;32m   2250\u001b[0m     inf_rep\u001b[38;5;241m=\u001b[39minf_rep,\n\u001b[0;32m   2251\u001b[0m )\n\u001b[1;32m-> 2252\u001b[0m \u001b[43mformatter\u001b[49m\u001b[38;5;241;43m.\u001b[39;49m\u001b[43mwrite\u001b[49m\u001b[43m(\u001b[49m\n\u001b[0;32m   2253\u001b[0m \u001b[43m    \u001b[49m\u001b[43mexcel_writer\u001b[49m\u001b[43m,\u001b[49m\n\u001b[0;32m   2254\u001b[0m \u001b[43m    \u001b[49m\u001b[43msheet_name\u001b[49m\u001b[38;5;241;43m=\u001b[39;49m\u001b[43msheet_name\u001b[49m\u001b[43m,\u001b[49m\n\u001b[0;32m   2255\u001b[0m \u001b[43m    \u001b[49m\u001b[43mstartrow\u001b[49m\u001b[38;5;241;43m=\u001b[39;49m\u001b[43mstartrow\u001b[49m\u001b[43m,\u001b[49m\n\u001b[0;32m   2256\u001b[0m \u001b[43m    \u001b[49m\u001b[43mstartcol\u001b[49m\u001b[38;5;241;43m=\u001b[39;49m\u001b[43mstartcol\u001b[49m\u001b[43m,\u001b[49m\n\u001b[0;32m   2257\u001b[0m \u001b[43m    \u001b[49m\u001b[43mfreeze_panes\u001b[49m\u001b[38;5;241;43m=\u001b[39;49m\u001b[43mfreeze_panes\u001b[49m\u001b[43m,\u001b[49m\n\u001b[0;32m   2258\u001b[0m \u001b[43m    \u001b[49m\u001b[43mengine\u001b[49m\u001b[38;5;241;43m=\u001b[39;49m\u001b[43mengine\u001b[49m\u001b[43m,\u001b[49m\n\u001b[0;32m   2259\u001b[0m \u001b[43m    \u001b[49m\u001b[43mstorage_options\u001b[49m\u001b[38;5;241;43m=\u001b[39;49m\u001b[43mstorage_options\u001b[49m\u001b[43m,\u001b[49m\n\u001b[0;32m   2260\u001b[0m \u001b[43m\u001b[49m\u001b[43m)\u001b[49m\n",
      "File \u001b[1;32m~\\AppData\\Roaming\\Python\\Python39\\site-packages\\pandas\\io\\formats\\excel.py:934\u001b[0m, in \u001b[0;36mExcelFormatter.write\u001b[1;34m(self, writer, sheet_name, startrow, startcol, freeze_panes, engine, storage_options)\u001b[0m\n\u001b[0;32m    930\u001b[0m     need_save \u001b[38;5;241m=\u001b[39m \u001b[38;5;28;01mFalse\u001b[39;00m\n\u001b[0;32m    931\u001b[0m \u001b[38;5;28;01melse\u001b[39;00m:\n\u001b[0;32m    932\u001b[0m     \u001b[38;5;66;03m# error: Cannot instantiate abstract class 'ExcelWriter' with abstract\u001b[39;00m\n\u001b[0;32m    933\u001b[0m     \u001b[38;5;66;03m# attributes 'engine', 'save', 'supported_extensions' and 'write_cells'\u001b[39;00m\n\u001b[1;32m--> 934\u001b[0m     writer \u001b[38;5;241m=\u001b[39m \u001b[43mExcelWriter\u001b[49m\u001b[43m(\u001b[49m\u001b[43m  \u001b[49m\u001b[38;5;66;43;03m# type: ignore[abstract]\u001b[39;49;00m\n\u001b[0;32m    935\u001b[0m \u001b[43m        \u001b[49m\u001b[43mwriter\u001b[49m\u001b[43m,\u001b[49m\u001b[43m \u001b[49m\u001b[43mengine\u001b[49m\u001b[38;5;241;43m=\u001b[39;49m\u001b[43mengine\u001b[49m\u001b[43m,\u001b[49m\u001b[43m \u001b[49m\u001b[43mstorage_options\u001b[49m\u001b[38;5;241;43m=\u001b[39;49m\u001b[43mstorage_options\u001b[49m\n\u001b[0;32m    936\u001b[0m \u001b[43m    \u001b[49m\u001b[43m)\u001b[49m\n\u001b[0;32m    937\u001b[0m     need_save \u001b[38;5;241m=\u001b[39m \u001b[38;5;28;01mTrue\u001b[39;00m\n\u001b[0;32m    939\u001b[0m \u001b[38;5;28;01mtry\u001b[39;00m:\n",
      "File \u001b[1;32m~\\AppData\\Roaming\\Python\\Python39\\site-packages\\pandas\\io\\excel\\_openpyxl.py:60\u001b[0m, in \u001b[0;36mOpenpyxlWriter.__init__\u001b[1;34m(self, path, engine, date_format, datetime_format, mode, storage_options, if_sheet_exists, engine_kwargs, **kwargs)\u001b[0m\n\u001b[0;32m     56\u001b[0m \u001b[38;5;28;01mfrom\u001b[39;00m \u001b[38;5;21;01mopenpyxl\u001b[39;00m\u001b[38;5;21;01m.\u001b[39;00m\u001b[38;5;21;01mworkbook\u001b[39;00m \u001b[38;5;28;01mimport\u001b[39;00m Workbook\n\u001b[0;32m     58\u001b[0m engine_kwargs \u001b[38;5;241m=\u001b[39m combine_kwargs(engine_kwargs, kwargs)\n\u001b[1;32m---> 60\u001b[0m \u001b[38;5;28;43msuper\u001b[39;49m\u001b[43m(\u001b[49m\u001b[43m)\u001b[49m\u001b[38;5;241;43m.\u001b[39;49m\u001b[38;5;21;43m__init__\u001b[39;49m\u001b[43m(\u001b[49m\n\u001b[0;32m     61\u001b[0m \u001b[43m    \u001b[49m\u001b[43mpath\u001b[49m\u001b[43m,\u001b[49m\n\u001b[0;32m     62\u001b[0m \u001b[43m    \u001b[49m\u001b[43mmode\u001b[49m\u001b[38;5;241;43m=\u001b[39;49m\u001b[43mmode\u001b[49m\u001b[43m,\u001b[49m\n\u001b[0;32m     63\u001b[0m \u001b[43m    \u001b[49m\u001b[43mstorage_options\u001b[49m\u001b[38;5;241;43m=\u001b[39;49m\u001b[43mstorage_options\u001b[49m\u001b[43m,\u001b[49m\n\u001b[0;32m     64\u001b[0m \u001b[43m    \u001b[49m\u001b[43mif_sheet_exists\u001b[49m\u001b[38;5;241;43m=\u001b[39;49m\u001b[43mif_sheet_exists\u001b[49m\u001b[43m,\u001b[49m\n\u001b[0;32m     65\u001b[0m \u001b[43m    \u001b[49m\u001b[43mengine_kwargs\u001b[49m\u001b[38;5;241;43m=\u001b[39;49m\u001b[43mengine_kwargs\u001b[49m\u001b[43m,\u001b[49m\n\u001b[0;32m     66\u001b[0m \u001b[43m\u001b[49m\u001b[43m)\u001b[49m\n\u001b[0;32m     68\u001b[0m \u001b[38;5;66;03m# ExcelWriter replaced \"a\" by \"r+\" to allow us to first read the excel file from\u001b[39;00m\n\u001b[0;32m     69\u001b[0m \u001b[38;5;66;03m# the file and later write to it\u001b[39;00m\n\u001b[0;32m     70\u001b[0m \u001b[38;5;28;01mif\u001b[39;00m \u001b[38;5;124m\"\u001b[39m\u001b[38;5;124mr+\u001b[39m\u001b[38;5;124m\"\u001b[39m \u001b[38;5;129;01min\u001b[39;00m \u001b[38;5;28mself\u001b[39m\u001b[38;5;241m.\u001b[39m_mode:  \u001b[38;5;66;03m# Load from existing workbook\u001b[39;00m\n",
      "File \u001b[1;32m~\\AppData\\Roaming\\Python\\Python39\\site-packages\\pandas\\io\\excel\\_base.py:1219\u001b[0m, in \u001b[0;36mExcelWriter.__init__\u001b[1;34m(self, path, engine, date_format, datetime_format, mode, storage_options, if_sheet_exists, engine_kwargs)\u001b[0m\n\u001b[0;32m   1215\u001b[0m \u001b[38;5;28mself\u001b[39m\u001b[38;5;241m.\u001b[39m_handles \u001b[38;5;241m=\u001b[39m IOHandles(\n\u001b[0;32m   1216\u001b[0m     cast(IO[\u001b[38;5;28mbytes\u001b[39m], path), compression\u001b[38;5;241m=\u001b[39m{\u001b[38;5;124m\"\u001b[39m\u001b[38;5;124mcompression\u001b[39m\u001b[38;5;124m\"\u001b[39m: \u001b[38;5;28;01mNone\u001b[39;00m}\n\u001b[0;32m   1217\u001b[0m )\n\u001b[0;32m   1218\u001b[0m \u001b[38;5;28;01mif\u001b[39;00m \u001b[38;5;129;01mnot\u001b[39;00m \u001b[38;5;28misinstance\u001b[39m(path, ExcelWriter):\n\u001b[1;32m-> 1219\u001b[0m     \u001b[38;5;28mself\u001b[39m\u001b[38;5;241m.\u001b[39m_handles \u001b[38;5;241m=\u001b[39m \u001b[43mget_handle\u001b[49m\u001b[43m(\u001b[49m\n\u001b[0;32m   1220\u001b[0m \u001b[43m        \u001b[49m\u001b[43mpath\u001b[49m\u001b[43m,\u001b[49m\u001b[43m \u001b[49m\u001b[43mmode\u001b[49m\u001b[43m,\u001b[49m\u001b[43m \u001b[49m\u001b[43mstorage_options\u001b[49m\u001b[38;5;241;43m=\u001b[39;49m\u001b[43mstorage_options\u001b[49m\u001b[43m,\u001b[49m\u001b[43m \u001b[49m\u001b[43mis_text\u001b[49m\u001b[38;5;241;43m=\u001b[39;49m\u001b[38;5;28;43;01mFalse\u001b[39;49;00m\n\u001b[0;32m   1221\u001b[0m \u001b[43m    \u001b[49m\u001b[43m)\u001b[49m\n\u001b[0;32m   1222\u001b[0m \u001b[38;5;28mself\u001b[39m\u001b[38;5;241m.\u001b[39m_cur_sheet \u001b[38;5;241m=\u001b[39m \u001b[38;5;28;01mNone\u001b[39;00m\n\u001b[0;32m   1224\u001b[0m \u001b[38;5;28;01mif\u001b[39;00m date_format \u001b[38;5;129;01mis\u001b[39;00m \u001b[38;5;28;01mNone\u001b[39;00m:\n",
      "File \u001b[1;32m~\\AppData\\Roaming\\Python\\Python39\\site-packages\\pandas\\io\\common.py:868\u001b[0m, in \u001b[0;36mget_handle\u001b[1;34m(path_or_buf, mode, encoding, compression, memory_map, is_text, errors, storage_options)\u001b[0m\n\u001b[0;32m    859\u001b[0m         handle \u001b[38;5;241m=\u001b[39m \u001b[38;5;28mopen\u001b[39m(\n\u001b[0;32m    860\u001b[0m             handle,\n\u001b[0;32m    861\u001b[0m             ioargs\u001b[38;5;241m.\u001b[39mmode,\n\u001b[1;32m   (...)\u001b[0m\n\u001b[0;32m    864\u001b[0m             newline\u001b[38;5;241m=\u001b[39m\u001b[38;5;124m\"\u001b[39m\u001b[38;5;124m\"\u001b[39m,\n\u001b[0;32m    865\u001b[0m         )\n\u001b[0;32m    866\u001b[0m     \u001b[38;5;28;01melse\u001b[39;00m:\n\u001b[0;32m    867\u001b[0m         \u001b[38;5;66;03m# Binary mode\u001b[39;00m\n\u001b[1;32m--> 868\u001b[0m         handle \u001b[38;5;241m=\u001b[39m \u001b[38;5;28;43mopen\u001b[39;49m\u001b[43m(\u001b[49m\u001b[43mhandle\u001b[49m\u001b[43m,\u001b[49m\u001b[43m \u001b[49m\u001b[43mioargs\u001b[49m\u001b[38;5;241;43m.\u001b[39;49m\u001b[43mmode\u001b[49m\u001b[43m)\u001b[49m\n\u001b[0;32m    869\u001b[0m     handles\u001b[38;5;241m.\u001b[39mappend(handle)\n\u001b[0;32m    871\u001b[0m \u001b[38;5;66;03m# Convert BytesIO or file objects passed with an encoding\u001b[39;00m\n",
      "\u001b[1;31mPermissionError\u001b[0m: [Errno 13] Permission denied: '../data/clean_data.xlsx'"
     ]
    }
   ],
   "source": [
    "df.to_excel(\"../data/clean_data.xlsx\")"
   ]
  }
 ],
 "metadata": {
  "kernelspec": {
   "display_name": "robert",
   "language": "python",
   "name": "python3"
  },
  "language_info": {
   "codemirror_mode": {
    "name": "ipython",
    "version": 3
   },
   "file_extension": ".py",
   "mimetype": "text/x-python",
   "name": "python",
   "nbconvert_exporter": "python",
   "pygments_lexer": "ipython3",
   "version": "3.9.16"
  }
 },
 "nbformat": 4,
 "nbformat_minor": 2
}
